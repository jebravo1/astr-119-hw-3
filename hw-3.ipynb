{
 "cells": [
  {
   "cell_type": "code",
   "execution_count": null,
   "metadata": {},
   "outputs": [],
   "source": [
    "%matplotlib inline\n",
    "import numpy as np\n",
    "import matplotlib.pyplot as plt"
   ]
  },
  {
   "cell_type": "code",
   "execution_count": null,
   "metadata": {},
   "outputs": [],
   "source": [
    "def function_for_roots(x):\n",
    "    a = 1.01\n",
    "    b = -3.04\n",
    "    c = 2.07\n",
    "    return a*x**2 + b*x + c #gets the roots of ax^2+bx+c"
   ]
  },
  {
   "cell_type": "code",
   "execution_count": null,
   "metadata": {},
   "outputs": [],
   "source": [
    "def check_intial_values(f, x_min, x_max, tol):\n",
    "    \n",
    "    #check our initial guesses\n",
    "    y_min = f(x_min)\n",
    "    y_max = f(x_max)\n",
    "    \n",
    "    #check that x_min and x_max contain a zero crossing\n",
    "    if(y_min*y_max>=0.0):\n",
    "        print(\"No zero crossing found in the range = \",x_min,x_max)\n",
    "        s = \"f(%f) = %f\" % (x_min,y_min,x_max,y_max)\n",
    "        print(s)\n",
    "        return 0 \n",
    "    \n",
    "    #if x_min is a root, then return flag == 1\n",
    "    if np.fabs(y_min)<tol:\n",
    "        return 1 \n",
    "    \n",
    "    #if x_max is a root, then return flag == 2\n",
    "    if np.fabs(y_max)<tol:\n",
    "        return 2 \n",
    "    \n",
    "    #if we reach this point, the bracket is valid and we will return 3\n",
    "    return 3"
   ]
  },
  {
   "cell_type": "code",
   "execution_count": null,
   "metadata": {},
   "outputs": [],
   "source": [
    "def bisection_root_finding(f, x_min_start, x_max_start, tol):\n",
    "    #this function uses a bisection search to find a root\n",
    "    \n",
    "    x_min = x_min_start   #minimum x in bracket\n",
    "    x_max = x_max_start   #maximum x in bracket\n",
    "    x_min = 0.0           #midpoint\n",
    "    \n",
    "    y_min = f(x_min)      #function value at x_min\n",
    "    y_max = f(x_max)      #function value at x_max\n",
    "    y_mid = 0.0           #function value at midpoint\n",
    "    \n",
    "    imax = 10000\n",
    "    i = 0\n",
    "    \n",
    "    #check the intial values\n",
    "    flag = check_intial_values(f,x_min,x_max,tol)\n",
    "    if(flag==0):\n",
    "        print(\"Error in bisection_root_finding().\")\n",
    "        raise ValueError('Initial values invalid',x_min,x_max)\n",
    "    elif(flag==1):\n",
    "        #lucky guess\n",
    "        return x_min\n",
    "    elif(flag==2):\n",
    "        #another lucky guess\n",
    "        return x_max\n",
    "    \n",
    "    #set a flag\n",
    "    flag = 1\n",
    "    \n",
    "    #enter a while loop\n",
    "    while(flag):\n",
    "        x_mid = 0.5*(x_min+x_max) #midpoint\n",
    "        y_mid = f(x_mid)          #function value a x_mid\n",
    "        \n",
    "        #check if x_mid is a root\n",
    "        if(np.fabs(y_mid)<tol):\n",
    "            flag = 0\n",
    "        else:\n",
    "            if(f(x_min)*f(x_mid)>0):\n",
    "                \n",
    "                x_min = x_mid\n",
    "            else:\n",
    "                x_max = x_mid\n",
    "                \n",
    "        print(x_min,f(x_min),x_max,f(x_max))\n",
    "        \n",
    "        #count the iteration\n",
    "        i += 1\n",
    "        \n",
    "        #if we have exceeded the max number of interactions, exit\n",
    "        if(i>=imax):\n",
    "    \n",
    "            \n",
    "            raise StopIteration('Stopping iterations after ',i)\n",
    "            \n",
    "    return x_mid"
   ]
  },
  {
   "cell_type": "code",
   "execution_count": null,
   "metadata": {},
   "outputs": [],
   "source": [
    "x_min = 0.0\n",
    "x_max = 1.5\n",
    "tol = 1.0\n",
    "\n",
    "print(x_min,function_for_roots(x_min))\n",
    "print(x_max,function_for_roots(x_max))\n",
    "\n",
    "x_root = bisection_root_finding(function_for_roots, x_min, x_max, tol)\n",
    "y_root = function_for_roots(x_root)\n",
    "\n",
    "s = \"Root found with y(%f)= %f\" % (x_root, y_root)\n",
    "print(s)"
   ]
  },
  {
   "cell_type": "code",
   "execution_count": null,
   "metadata": {},
   "outputs": [],
   "source": [
    "x = np.linspace(0,3,1000)\n",
    "plt.plot(x, function_for_roots(x))\n",
    "f_min = function_for_roots(x[0])\n",
    "f_max = function_for_roots(1.5)\n",
    "plt.axhline(0.0,linestyle=':',color='k', alpha=.3)\n",
    "plt.plot([0], f_min, marker='o', color='orange')\n",
    "plt.plot(1.5, f_max, marker='o', color='orange')\n",
    "plt.xlabel('x')\n",
    "plt.ylabel('y')\n",
    "plt.xlim(0, 3)\n",
    "plt.ylim(-.5, 2.1)"
   ]
  }
 ],
 "metadata": {
  "kernelspec": {
   "display_name": "Python 3",
   "language": "python",
   "name": "python3"
  },
  "language_info": {
   "codemirror_mode": {
    "name": "ipython",
    "version": 3
   },
   "file_extension": ".py",
   "mimetype": "text/x-python",
   "name": "python",
   "nbconvert_exporter": "python",
   "pygments_lexer": "ipython3",
   "version": "3.6.5"
  }
 },
 "nbformat": 4,
 "nbformat_minor": 2
}
